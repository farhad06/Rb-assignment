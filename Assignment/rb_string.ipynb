{
 "cells": [
  {
   "cell_type": "code",
   "execution_count": 14,
   "id": "fbba4d0d",
   "metadata": {},
   "outputs": [
    {
     "name": "stdout",
     "output_type": "stream",
     "text": [
      "String is Not Binary\n"
     ]
    }
   ],
   "source": [
    "#20.check a string binary or not\n",
    "txt='01010001'\n",
    "number={'0','1'}\n",
    "text=set(txt)\n",
    "if number==text or number=={'0'} or number=={'1'}:\n",
    "    print(\"String is Binary\")\n",
    "else:\n",
    "    print(\"String is Not Binary\")\n"
   ]
  },
  {
   "cell_type": "code",
   "execution_count": 17,
   "id": "23580c66",
   "metadata": {},
   "outputs": [
    {
     "name": "stdout",
     "output_type": "stream",
     "text": [
      "Uncommon words are:  {'r', 'd', 't', 'P', 'y', ' ', 'H', 'n', ',', 'W'}\n"
     ]
    }
   ],
   "source": [
    "#21. find uncommon words from two string\n",
    "txt1=\"hello,World\"\n",
    "txt2=\"Hello Python\"\n",
    "op=set(txt1).symmetric_difference(txt2)\n",
    "print(\"Uncommon words are: \",op)"
   ]
  },
  {
   "cell_type": "code",
   "execution_count": 26,
   "id": "43eaf58f",
   "metadata": {},
   "outputs": [
    {
     "name": "stdout",
     "output_type": "stream",
     "text": [
      "The original string is : Gita is a girl. Gita is good in Math , Math is her favourite subject.\n",
      "The string after replacing : Gita is a girl. She is good in Math , that is her favourite subject.\n"
     ]
    }
   ],
   "source": [
    "#22.replace duplicate occurance in a string\n",
    "test_string = 'Gita is a girl. Gita is good in Math , Math is her favourite subject.'\n",
    "  \n",
    "print(\"The original string is : \" + str(test_string))\n",
    "replace_dict = {'Gita' :  'She', 'Math' : 'that' }\n",
    "\n",
    "test_list = test_string.split(' ')\n",
    "#print(test_list)\n",
    "r = set()\n",
    "for i, el in enumerate(test_list):\n",
    "    if el in replace_dict:\n",
    "        if el in r:\n",
    "            test_list[i] = replace_dict[el]\n",
    "        else:\n",
    "            r.add(el)\n",
    "r = ' '.join(test_list)\n",
    "print(\"The string after replacing : \" + str(r)) \n"
   ]
  },
  {
   "cell_type": "code",
   "execution_count": 25,
   "id": "f90c7cfe",
   "metadata": {},
   "outputs": [],
   "source": [
    "#23.replace multiple word with k\n",
    " \n",
    "\n"
   ]
  },
  {
   "cell_type": "code",
   "execution_count": 20,
   "id": "785a9c97",
   "metadata": {},
   "outputs": [
    {
     "name": "stdout",
     "output_type": "stream",
     "text": [
      "FAR\n",
      "FRA\n",
      "AFR\n",
      "ARF\n",
      "RFA\n",
      "RAF\n"
     ]
    }
   ],
   "source": [
    "#24.permutation of a given string\n",
    "from itertools import permutations\n",
    "import string\n",
    "text=\"FAR\"\n",
    "a=string.ascii_letters\n",
    "p=permutations(text)\n",
    "output=[]\n",
    "for i in list(p):\n",
    "    if i not in output:\n",
    "        output.append(i)\n",
    "        print(''.join(i))"
   ]
  },
  {
   "cell_type": "code",
   "execution_count": null,
   "id": "e357498b",
   "metadata": {},
   "outputs": [],
   "source": [
    "#25.check for url in a string"
   ]
  }
 ],
 "metadata": {
  "kernelspec": {
   "display_name": "Python 3 (ipykernel)",
   "language": "python",
   "name": "python3"
  },
  "language_info": {
   "codemirror_mode": {
    "name": "ipython",
    "version": 3
   },
   "file_extension": ".py",
   "mimetype": "text/x-python",
   "name": "python",
   "nbconvert_exporter": "python",
   "pygments_lexer": "ipython3",
   "version": "3.9.7"
  }
 },
 "nbformat": 4,
 "nbformat_minor": 5
}
