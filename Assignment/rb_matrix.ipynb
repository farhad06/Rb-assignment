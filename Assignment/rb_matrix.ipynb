{
 "cells": [
  {
   "cell_type": "code",
   "execution_count": null,
   "id": "8216816c",
   "metadata": {},
   "outputs": [],
   "source": [
    "#5.transpose of a matrix\n",
    "a=[[1,2],[4,5],[7,9]]\n",
    "c=[[0,0,0],[0,0,0]]\n",
    "for i in range(len(a)):\n",
    "    for j in range(len(a[0])):\n",
    "        c[j][i]=a[i][j]\n",
    "for tran in c:\n",
    "    print(tran)"
   ]
  },
  {
   "cell_type": "code",
   "execution_count": null,
   "id": "a0a602d5",
   "metadata": {},
   "outputs": [],
   "source": [
    "#6.matrix creation of n*n \n",
    "k=4\n"
   ]
  }
 ],
 "metadata": {
  "kernelspec": {
   "display_name": "Python 3 (ipykernel)",
   "language": "python",
   "name": "python3"
  },
  "language_info": {
   "codemirror_mode": {
    "name": "ipython",
    "version": 3
   },
   "file_extension": ".py",
   "mimetype": "text/x-python",
   "name": "python",
   "nbconvert_exporter": "python",
   "pygments_lexer": "ipython3",
   "version": "3.9.7"
  }
 },
 "nbformat": 4,
 "nbformat_minor": 5
}
