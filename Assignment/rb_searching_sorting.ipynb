{
 "cells": [
  {
   "cell_type": "code",
   "execution_count": 7,
   "id": "2a0b4605",
   "metadata": {},
   "outputs": [
    {
     "name": "stdout",
     "output_type": "stream",
     "text": [
      "Not Found\n"
     ]
    }
   ],
   "source": [
    "#1.binary search iterative\n",
    "def binary_search(arr,search,n):\n",
    "    first=0\n",
    "    last=n-1\n",
    "    while first<=last:\n",
    "        mid=(first+last)//2\n",
    "        if (search==arr[mid]):\n",
    "            return (mid+1)\n",
    "        elif(search>arr[mid]):\n",
    "            first=mid+1\n",
    "        else:\n",
    "            last=mid-1\n",
    "    return -1    \n",
    "        \n",
    "    \n",
    "arr=[1,2,3,4,5,6]\n",
    "search=8\n",
    "l=len(arr)\n",
    "k=binary_search(arr,search,l)\n",
    "if k==-1:\n",
    "    print(\"Not Found\")\n",
    "else:\n",
    "    print(\"Found\")"
   ]
  },
  {
   "cell_type": "code",
   "execution_count": null,
   "id": "65a184eb",
   "metadata": {},
   "outputs": [],
   "source": [
    "#1.binary search reursive\n",
    "def b_search(arr,low,high,ele):\n",
    "    if low>high :\n",
    "        print(\"Not Found\")\n",
    "        return\n",
    "    mid=int((low+high)/2)\n",
    "    if arr[mid]==ele:\n",
    "        print(\"Found\")\n",
    "    elif arr[mid]>ele:\n",
    "        b_search(arr,low,mid-1,ele)\n",
    "    elif arr[mid]<ele:\n",
    "        b_search(arr,mid+1,high,ele)\n",
    "arr=[1,2,3,4,5,6]\n",
    "search=3\n",
    "l=len(arr)\n",
    "low=0\n",
    "high=l-1\n",
    "b_search(arr,low,high,search)"
   ]
  },
  {
   "cell_type": "code",
   "execution_count": 10,
   "id": "f59be725",
   "metadata": {},
   "outputs": [
    {
     "name": "stdout",
     "output_type": "stream",
     "text": [
      "Not Found\n"
     ]
    }
   ],
   "source": [
    "#2.liniar search\n",
    "arr=[1,2,3,4,5,6]\n",
    "search=9\n",
    "flag=False\n",
    "for i in range(len(arr)):\n",
    "    if arr[i]==search:\n",
    "        flag=True\n",
    "if flag==True:\n",
    "    print(\"Found\")\n",
    "else:\n",
    "    print(\"Not Found\")"
   ]
  },
  {
   "cell_type": "code",
   "execution_count": 1,
   "id": "f3961426",
   "metadata": {},
   "outputs": [
    {
     "name": "stdout",
     "output_type": "stream",
     "text": [
      "1 2 3 4 9 12 21 "
     ]
    }
   ],
   "source": [
    "#3.insertion sort iterative\n",
    "def insertion_sort(a,n):\n",
    "    for i in range(1,n-1):\n",
    "        j=i\n",
    "        while(j>0 and a[j-1]>a[j]):\n",
    "            temp=a[j]\n",
    "            a[j]=a[j-1]\n",
    "            a[j-1]=temp\n",
    "            j=j-1\n",
    "arr=[3,4,1,2,9,12,21] \n",
    "l=len(arr)\n",
    "insertion_sort(arr,l)\n",
    "for i in range(l):\n",
    "    print(arr[i],end=\" \")"
   ]
  },
  {
   "cell_type": "code",
   "execution_count": 12,
   "id": "b88e7bfb",
   "metadata": {},
   "outputs": [
    {
     "name": "stdout",
     "output_type": "stream",
     "text": [
      "1 2 3 4 12 21 87 "
     ]
    }
   ],
   "source": [
    "#4.insertion sort recursive\n",
    "def recursiveInsertionSort(a,n):\n",
    "    if n<=1:\n",
    "        return\n",
    "    recursiveInsertionSort(a,n-1)\n",
    "    last=a[n-1]\n",
    "    j=n-2\n",
    "    while(j>=0 and a[j]>last):\n",
    "        a[j+1]=a[j]\n",
    "        j-=1\n",
    "    a[j+1]=last\n",
    "arr=[3,4,1,2,87,12,21] \n",
    "l=len(arr)\n",
    "recursiveInsertionSort(arr,l)\n",
    "for i in range(l):\n",
    "    print(arr[i],end=\" \")    "
   ]
  },
  {
   "cell_type": "code",
   "execution_count": 21,
   "id": "a50ca3fd",
   "metadata": {},
   "outputs": [
    {
     "name": "stdout",
     "output_type": "stream",
     "text": [
      "Sorted array is: [0.1, 1, 2, 3, 4, 12, 21, 87, 102]\n"
     ]
    }
   ],
   "source": [
    "#5.quick sort\n",
    "def partition(start,end,arr):\n",
    "    index=start\n",
    "    pivot=arr[index]\n",
    "    while start <end:\n",
    "        while start<len(arr) and arr[start]<=pivot:\n",
    "            start+=1\n",
    "        while arr[end]>pivot:\n",
    "            end-=1\n",
    "        if start < end:\n",
    "            arr[start],arr[end]=arr[end],arr[start]\n",
    "            #arr[end]=arr[start]\n",
    "    arr[end],arr[index]=arr[index],arr[end]\n",
    "    return end\n",
    "\n",
    "def q_sort(start,end,arr):\n",
    "    if start <end:\n",
    "        p=partition(start,end,arr)\n",
    "        q_sort(start,p-1,arr)\n",
    "        q_sort(p+1,end,arr)\n",
    "    \n",
    "arr=[3,4,1,2,102,87,12,21,0.1] \n",
    "l=len(arr)\n",
    "q_sort(0,l-1,arr)\n",
    "print(f'Sorted array is: {arr}')      "
   ]
  },
  {
   "cell_type": "code",
   "execution_count": null,
   "id": "71e68b7a",
   "metadata": {},
   "outputs": [],
   "source": []
  },
  {
   "cell_type": "code",
   "execution_count": null,
   "id": "37f5a78e",
   "metadata": {},
   "outputs": [],
   "source": []
  }
 ],
 "metadata": {
  "kernelspec": {
   "display_name": "Python 3 (ipykernel)",
   "language": "python",
   "name": "python3"
  },
  "language_info": {
   "codemirror_mode": {
    "name": "ipython",
    "version": 3
   },
   "file_extension": ".py",
   "mimetype": "text/x-python",
   "name": "python",
   "nbconvert_exporter": "python",
   "pygments_lexer": "ipython3",
   "version": "3.9.7"
  }
 },
 "nbformat": 4,
 "nbformat_minor": 5
}
