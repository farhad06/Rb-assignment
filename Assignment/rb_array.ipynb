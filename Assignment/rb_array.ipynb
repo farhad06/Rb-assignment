{
 "cells": [
  {
   "cell_type": "code",
   "execution_count": null,
   "id": "f0fc852a",
   "metadata": {},
   "outputs": [],
   "source": [
    "#7.check array is monotonic or not\n",
    "def isMonotonic(arr):\n",
    "    return (all(arr[i] <= arr[i + 1] for i in range(len(arr) - 1)) or\n",
    "      all(arr[i] >= arr[i + 1] for i in range(len(arr) - 1)))\n",
    "arr=[1,2,3,4,5]\n",
    "print(isMonotonic(arr))"
   ]
  }
 ],
 "metadata": {
  "kernelspec": {
   "display_name": "Python 3 (ipykernel)",
   "language": "python",
   "name": "python3"
  },
  "language_info": {
   "codemirror_mode": {
    "name": "ipython",
    "version": 3
   },
   "file_extension": ".py",
   "mimetype": "text/x-python",
   "name": "python",
   "nbconvert_exporter": "python",
   "pygments_lexer": "ipython3",
   "version": "3.9.7"
  }
 },
 "nbformat": 4,
 "nbformat_minor": 5
}
