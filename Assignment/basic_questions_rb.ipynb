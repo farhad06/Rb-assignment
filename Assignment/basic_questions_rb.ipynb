{
 "cells": [
  {
   "cell_type": "code",
   "execution_count": null,
   "id": "a9a32005",
   "metadata": {},
   "outputs": [],
   "source": [
    "#13.ASCII value of a character\n",
    "cha=input(\"Enter a character: \")\n",
    "print(\"ASCII value of \",cha,\"is: \",ord(cha))"
   ]
  },
  {
   "cell_type": "code",
   "execution_count": null,
   "id": "02517780",
   "metadata": {},
   "outputs": [],
   "source": [
    "#14.sum of square of n natural number\n",
    "rang=int(input(\"Enter range: \"))\n",
    "s=0\n",
    "for i in range(1,rang+1):\n",
    "    s=s+i**2\n",
    "print(\"Sum of Square up to \",rang,\"is: \",s)  "
   ]
  },
  {
   "cell_type": "code",
   "execution_count": null,
   "id": "a29ab6d1",
   "metadata": {},
   "outputs": [],
   "source": [
    "#15.sum of cube of n natural number\n",
    "rang=int(input(\"Enter range: \"))\n",
    "s=0\n",
    "for i in range(1,rang+1):\n",
    "    s=s+i**3\n",
    "print(\"Sum of Cube up to \",rang,\"is: \",s)"
   ]
  }
 ],
 "metadata": {
  "kernelspec": {
   "display_name": "Python 3 (ipykernel)",
   "language": "python",
   "name": "python3"
  },
  "language_info": {
   "codemirror_mode": {
    "name": "ipython",
    "version": 3
   },
   "file_extension": ".py",
   "mimetype": "text/x-python",
   "name": "python",
   "nbconvert_exporter": "python",
   "pygments_lexer": "ipython3",
   "version": "3.9.7"
  }
 },
 "nbformat": 4,
 "nbformat_minor": 5
}
