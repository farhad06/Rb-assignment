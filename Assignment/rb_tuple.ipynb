{
 "cells": [
  {
   "cell_type": "code",
   "execution_count": 5,
   "id": "aacacf45",
   "metadata": {},
   "outputs": [],
   "source": [
    "#7.Extract digit from a tuple\n",
    "\n"
   ]
  },
  {
   "cell_type": "code",
   "execution_count": 4,
   "id": "8c8619a4",
   "metadata": {},
   "outputs": [
    {
     "name": "stdout",
     "output_type": "stream",
     "text": [
      "All pairs are:  [(3, 4), (3, 6), (5, 4), (5, 6), (4, 3), (4, 5), (6, 3), (6, 5)]\n"
     ]
    }
   ],
   "source": [
    "#8.all pair combination of two tuple\n",
    "tup1=(3,5)\n",
    "tup2=(4,6)\n",
    "combination=[(a,b) for a in tup1 for b in tup2]\n",
    "combination+=[(a,b) for a in tup2 for b in tup1]\n",
    "print(\"All pairs are: \",combination)"
   ]
  },
  {
   "cell_type": "code",
   "execution_count": 13,
   "id": "352d7b0c",
   "metadata": {},
   "outputs": [
    {
     "name": "stdout",
     "output_type": "stream",
     "text": [
      "After Deleted Tuple is:  [(1, 2, 3), (1,), (1, 2, 3, 4, 5), (23, 34, 32), (25, 56, 36, 74, 25)]\n"
     ]
    }
   ],
   "source": [
    "#9.Remove tuple of k length\n",
    "tup=[(1,2,3),(1,),(1,2,3,4,5),(2,3),(23,34,32),(12,14),(25,56,36,74,25)]\n",
    "k=2\n",
    "for i in tup:\n",
    "    if len(i)==2:\n",
    "        tup.remove(i)\n",
    "print(\"After Deleted Tuple is: \" ,tup)"
   ]
  },
  {
   "cell_type": "code",
   "execution_count": null,
   "id": "7bf978b2",
   "metadata": {},
   "outputs": [],
   "source": []
  }
 ],
 "metadata": {
  "kernelspec": {
   "display_name": "Python 3 (ipykernel)",
   "language": "python",
   "name": "python3"
  },
  "language_info": {
   "codemirror_mode": {
    "name": "ipython",
    "version": 3
   },
   "file_extension": ".py",
   "mimetype": "text/x-python",
   "name": "python",
   "nbconvert_exporter": "python",
   "pygments_lexer": "ipython3",
   "version": "3.9.7"
  }
 },
 "nbformat": 4,
 "nbformat_minor": 5
}
