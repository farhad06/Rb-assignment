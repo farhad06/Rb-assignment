{
 "cells": [
  {
   "cell_type": "code",
   "execution_count": 14,
   "id": "257923b8",
   "metadata": {},
   "outputs": [
    {
     "name": "stdout",
     "output_type": "stream",
     "text": [
      "Unique values are:  [1, 2, 3, 4, 5, 7, 8, 9, 10, 33, 45, 90]\n"
     ]
    }
   ],
   "source": [
    "#1.\n",
    "dic={\n",
    "    'virat':[1,2,3,4,5],\n",
    "    'rohit':[7,8,9,10],\n",
    "    'pant':[3,5,33,45],\n",
    "    'rahul':[9,1,7,3,90]\n",
    "}\n",
    "l=[]\n",
    "l1=[]\n",
    "val=list(dic.values())\n",
    "for element in val:\n",
    "        l=sorted(l+element)\n",
    "for i in l:\n",
    "    if i not in l1:\n",
    "        l1.append(i)\n",
    "print(\"Unique values are: \",l1)"
   ]
  },
  {
   "cell_type": "code",
   "execution_count": 19,
   "id": "fd3f1c96",
   "metadata": {},
   "outputs": [
    {
     "name": "stdout",
     "output_type": "stream",
     "text": [
      "Total run is: 178\n"
     ]
    }
   ],
   "source": [
    "#2.\n",
    "dic={'Rohit':60,'Ishan':28,'Kholi':8,'Pant':11,'Suriya':34,'Hooda':26,'Extra':11}\n",
    "val=list(dic.values())\n",
    "s=0\n",
    "for i in val:\n",
    "    s+=i\n",
    "print(\"Total run is:\",s)    "
   ]
  },
  {
   "cell_type": "code",
   "execution_count": 20,
   "id": "cdca8932",
   "metadata": {},
   "outputs": [
    {
     "name": "stdout",
     "output_type": "stream",
     "text": [
      "Before Key delete Dictionary is:  {'Rohit': 60, 'Ishan': 28, 'Kholi': 8, 'Pant': 11, 'Suriya': 34, 'Hooda': 26, 'Extra': 11}\n",
      "After Key delete Dictionary is:  {'Rohit': 60, 'Ishan': 28, 'Kholi': 8, 'Pant': 11, 'Suriya': 34, 'Hooda': 26}\n"
     ]
    }
   ],
   "source": [
    "#3.\n",
    "dic={'Rohit':60,'Ishan':28,'Kholi':8,'Pant':11,'Suriya':34,'Hooda':26,'Extra':11}\n",
    "print(\"Before Key delete Dictionary is: \",dic)\n",
    "del dic['Extra']\n",
    "print(\"After Key delete Dictionary is: \",dic)"
   ]
  },
  {
   "cell_type": "code",
   "execution_count": 2,
   "id": "8edaff6d",
   "metadata": {},
   "outputs": [
    {
     "name": "stdout",
     "output_type": "stream",
     "text": [
      "Sorted Dictionary is:  {'Kholi': 8, 'Pant': 11, 'Extra': 11, 'Hooda': 26, 'Ishan': 28, 'Suriya': 34, 'Rohit': 60}\n"
     ]
    }
   ],
   "source": [
    "#4.\n",
    "import operator\n",
    "from operator import itemgetter\n",
    "dic={'Rohit':60,'Ishan':28,'Kholi':8,'Pant':11,'Suriya':34,'Hooda':26,'Extra':11}\n",
    "sort_dict=dict(sorted(dic.items(),key=operator.itemgetter(1)))\n",
    "print(\"Sorted Dictionary is: \",sort_dict)\n"
   ]
  },
  {
   "cell_type": "code",
   "execution_count": 4,
   "id": "9fab8046",
   "metadata": {},
   "outputs": [
    {
     "name": "stdout",
     "output_type": "stream",
     "text": [
      "Sorted Dictionary is:  {'Kholi': 8, 'Pant': 11, 'Extra': 11, 'Hooda': 26, 'Ishan': 28, 'Suriya': 34, 'Rohit': 60}\n"
     ]
    }
   ],
   "source": [
    "#5.\n",
    "dic={'Rohit':60,'Ishan':28,'Kholi':8,'Pant':11,'Suriya':34,'Hooda':26,'Extra':11}\n",
    "sort_dict=dict(sorted(dic.items(),key=lambda item:item[1]))\n",
    "print(\"Sorted Dictionary is: \",sort_dict)"
   ]
  },
  {
   "cell_type": "code",
   "execution_count": 6,
   "id": "bf84d3c9",
   "metadata": {},
   "outputs": [
    {
     "name": "stdout",
     "output_type": "stream",
     "text": [
      "Marged Dictionary is:  {'Rohit': 60, 'Ishan': 28, 'Kholi': 8, 'Pant': 11, 'Suriya': 34, 'Hooda': 26, 'Siraj': 26, 'Prasid': 29, 'Sundar': 30, 'Chahal': 49, 'Thakur': 38}\n"
     ]
    }
   ],
   "source": [
    "#6.\n",
    "batters={'Rohit':60,'Ishan':28,'Kholi':8,'Pant':11,'Suriya':34,'Hooda':26}\n",
    "blowers={'Siraj':26,'Prasid':29,'Sundar':30,'Chahal':49,'Thakur':38}\n",
    "batters.update(blowers)\n",
    "print(\"Marged Dictionary is: \",batters)"
   ]
  },
  {
   "cell_type": "code",
   "execution_count": 10,
   "id": "23bb18b1",
   "metadata": {},
   "outputs": [
    {
     "name": "stdout",
     "output_type": "stream",
     "text": [
      "Key-Value pairs are:  {'Rohit': 60, 'Ishan': 28, 'Kholi': 8, 'Pant': 11, 'Suriya': 34, 'Hooda': 26}\n"
     ]
    }
   ],
   "source": [
    "#7.\n",
    "from itertools import product\n",
    "team={'batters':['Rohit','Ishan','Kholi','Pant','Suriya','Hooda'],'runs':[60,28,8,11,34,26]}\n",
    "batters_run=dict(zip(team['batters'],team['runs']))\n",
    "print(\"Key-Value pairs are: \",batters_run)\n"
   ]
  },
  {
   "cell_type": "code",
   "execution_count": 15,
   "id": "7f3fee93",
   "metadata": {},
   "outputs": [
    {
     "name": "stdout",
     "output_type": "stream",
     "text": [
      "Updated Dictionary is:  OrderedDict([('Hooda', '26'), ('Rohit', '60'), ('Ishan', '28'), ('Kholi', '8'), ('Pant', '11')])\n"
     ]
    }
   ],
   "source": [
    "#8.\n",
    "from collections import OrderedDict\n",
    "od=OrderedDict([('Rohit', '60'), ('Ishan', '28'), ('Kholi', '8'), ('Pant', '11')])\n",
    "od.update({'Hooda':'26'})\n",
    "od.move_to_end('Hooda',last=False)\n",
    "print(\"Updated Dictionary is: \",od)               "
   ]
  },
  {
   "cell_type": "code",
   "execution_count": null,
   "id": "89ce2f20",
   "metadata": {},
   "outputs": [],
   "source": []
  }
 ],
 "metadata": {
  "kernelspec": {
   "display_name": "Python 3 (ipykernel)",
   "language": "python",
   "name": "python3"
  },
  "language_info": {
   "codemirror_mode": {
    "name": "ipython",
    "version": 3
   },
   "file_extension": ".py",
   "mimetype": "text/x-python",
   "name": "python",
   "nbconvert_exporter": "python",
   "pygments_lexer": "ipython3",
   "version": "3.9.7"
  }
 },
 "nbformat": 4,
 "nbformat_minor": 5
}
