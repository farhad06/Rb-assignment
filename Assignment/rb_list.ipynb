{
 "cells": [
  {
   "cell_type": "code",
   "execution_count": 1,
   "id": "dfc281e8",
   "metadata": {},
   "outputs": [
    {
     "name": "stdout",
     "output_type": "stream",
     "text": [
      "Before delete list is:  [1, 2, 3, 4, 5, 6, 7, 8, 11, 21, 12, 13, 31, 25]\n",
      "After delete list is:  [1, 2, 3, 4, 5, 6, 21, 12, 13, 31, 25]\n"
     ]
    }
   ],
   "source": [
    "#21.remove multile element from a list\n",
    "l=[1,2,3,4,5,6,7,8,11,21,12,13,31,25]\n",
    "print(\"Before delete list is: \",l)\n",
    "del l[6:9]\n",
    "print(\"After delete list is: \",l)"
   ]
  },
  {
   "cell_type": "code",
   "execution_count": 11,
   "id": "4560f6ed",
   "metadata": {},
   "outputs": [
    {
     "name": "stdout",
     "output_type": "stream",
     "text": [
      "Before delete empty lists list is:  [[1, 2], [1, 2, 3], [], [5, 66, 67, 68], [], [1, 2, 3, 4, 5]]\n",
      "After delete empty lists list is:  [[1, 2], [1, 2, 3], [5, 66, 67, 68], [1, 2, 3, 4, 5]]\n"
     ]
    }
   ],
   "source": [
    "#22.remove empty list from a list\n",
    "l=[[1,2],[1,2,3],[],[5,66,67,68],[],[1,2,3,4,5]]\n",
    "print(\"Before delete empty lists list is: \",l)\n",
    "for i in l:\n",
    "    if len(i)==0:\n",
    "        l.remove(i)\n",
    "        \n",
    "print(\"After delete empty lists list is: \",l)"
   ]
  },
  {
   "cell_type": "code",
   "execution_count": 5,
   "id": "b3df9241",
   "metadata": {},
   "outputs": [
    {
     "name": "stdout",
     "output_type": "stream",
     "text": [
      "Before Copying L2 list is:  []\n",
      "After Copying L2 list is:  [1, 2, 3, 4, 5, 6, 7, 8, 11, 21, 12, 13, 31, 25]\n"
     ]
    }
   ],
   "source": [
    "#23.copy a list\n",
    "l1=[1,2,3,4,5,6,7,8,11,21,12,13,31,25]\n",
    "l2=[]\n",
    "print(\"Before Copying L2 list is: \",l2)\n",
    "l2=l1.copy()\n",
    "print(\"After Copying L2 list is: \",l2)\n",
    "\n"
   ]
  },
  {
   "cell_type": "code",
   "execution_count": 8,
   "id": "f2f4f690",
   "metadata": {},
   "outputs": [
    {
     "name": "stdout",
     "output_type": "stream",
     "text": [
      "Enter a number to be count: 63\n",
      "Number is not present in the list\n"
     ]
    }
   ],
   "source": [
    "#24.count concurrent element in a list\n",
    "l=[1,2,3,4,11,2,0,1,6,9,2,0,3,0]\n",
    "n=int(input(\"Enter a number to be count: \"))\n",
    "if n not in l:\n",
    "    print(\"Number is not present in the list\")\n",
    "else:\n",
    "    print(n,\"is present in the list\",l.count(n),\"times\")"
   ]
  },
  {
   "cell_type": "code",
   "execution_count": 10,
   "id": "65eb7c28",
   "metadata": {},
   "outputs": [
    {
     "name": "stdout",
     "output_type": "stream",
     "text": [
      "Before delete empty tuple list is:  [(1, 3), ('farhad', 'manoj'), (3, 2), (), ('virat', 'rohit', 'pant'), (), (1, 2, 3, 4, 5)]\n",
      "After delete empty tuple list is:  [(1, 3), ('farhad', 'manoj'), (3, 2), ('virat', 'rohit', 'pant'), (1, 2, 3, 4, 5)]\n"
     ]
    }
   ],
   "source": [
    "#25.remove empty tuple from a list\n",
    "l=[(1,3),('farhad','manoj'),(3,2),(),('virat','rohit','pant'),(),(1,2,3,4,5)]\n",
    "print(\"Before delete empty tuples list is: \",l)\n",
    "for i in l:\n",
    "    if len(i)==0:\n",
    "        l.remove(i)\n",
    "        \n",
    "print(\"After delete empty tuples list is: \",l)"
   ]
  },
  {
   "cell_type": "code",
   "execution_count": null,
   "id": "0bc590e7",
   "metadata": {},
   "outputs": [],
   "source": []
  }
 ],
 "metadata": {
  "kernelspec": {
   "display_name": "Python 3 (ipykernel)",
   "language": "python",
   "name": "python3"
  },
  "language_info": {
   "codemirror_mode": {
    "name": "ipython",
    "version": 3
   },
   "file_extension": ".py",
   "mimetype": "text/x-python",
   "name": "python",
   "nbconvert_exporter": "python",
   "pygments_lexer": "ipython3",
   "version": "3.9.7"
  }
 },
 "nbformat": 4,
 "nbformat_minor": 5
}
